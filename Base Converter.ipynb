{
 "cells": [
  {
   "cell_type": "code",
   "execution_count": 1,
   "metadata": {},
   "outputs": [],
   "source": [
    "from baseconv import Base, PHI"
   ]
  },
  {
   "cell_type": "code",
   "execution_count": 2,
   "metadata": {},
   "outputs": [
    {
     "name": "stdout",
     "output_type": "stream",
     "text": [
      "Ba3_33 = 65691.0_10\n",
      "573_10 = dr_33\n"
     ]
    }
   ],
   "source": [
    "t = Base(42)\n",
    "print(f\"Ba3_33 = {t.f('Ba3')}_10\\n\" +\n",
    "      f\"573_10 = {t.t(573)}_33\")"
   ]
  },
  {
   "cell_type": "code",
   "execution_count": 3,
   "metadata": {},
   "outputs": [],
   "source": [
    "phi = Base(PHI)"
   ]
  },
  {
   "cell_type": "code",
   "execution_count": 4,
   "metadata": {},
   "outputs": [
    {
     "name": "stdout",
     "output_type": "stream",
     "text": [
      "100.01_PHI = 3.0_10\n",
      "0.5_10 = 0.01001001001001001001001001001_PHI\n"
     ]
    }
   ],
   "source": [
    "phi = Base(PHI)\n",
    "print(f\"100.01_PHI = {phi.f(100.01)}_10\\n\" +\n",
    "      f\"0.5_10 = {phi.t(0.5)}_PHI\")"
   ]
  }
 ],
 "metadata": {
  "kernelspec": {
   "display_name": "Python 3",
   "language": "python",
   "name": "python3"
  },
  "language_info": {
   "codemirror_mode": {
    "name": "ipython",
    "version": 3
   },
   "file_extension": ".py",
   "mimetype": "text/x-python",
   "name": "python",
   "nbconvert_exporter": "python",
   "pygments_lexer": "ipython3",
   "version": "3.6.4"
  }
 },
 "nbformat": 4,
 "nbformat_minor": 2
}
